{
  "nbformat": 4,
  "nbformat_minor": 0,
  "metadata": {
    "colab": {
      "name": "Bankbot1.ipynb",
      "provenance": [],
      "collapsed_sections": [],
      "authorship_tag": "ABX9TyPajj9hCIzl6PovcPXMKZ8Y"
    },
    "kernelspec": {
      "name": "python3",
      "display_name": "Python 3"
    },
    "language_info": {
      "name": "python"
    }
  },
  "cells": [
    {
      "cell_type": "markdown",
      "metadata": {
        "id": "5jZKep1OgMbg"
      },
      "source": [
        "Coinbase Pro Bot\n",
        "\n",
        "This is a functioning bot that connects to the Coinbase Pro API connects allowing balance viewing and remote trading. \n",
        "\n"
      ]
    },
    {
      "cell_type": "code",
      "metadata": {
        "id": "bVtdI5n8LeEM"
      },
      "source": [
        "#installs coinbase libraries and API endpoints\n",
        "pip install coinbase\n",
        "import cbpro\n",
        "public_client = cbpro.PublicClient()"
      ],
      "execution_count": null,
      "outputs": []
    },
    {
      "cell_type": "code",
      "metadata": {
        "id": "SRUuvki4V0MI"
      },
      "source": [
        "# Login information for the API\n",
        "phrase = \"(Removed For Security)\"\n",
        "secret= \"(Removed For Security)\"\n",
        "key = \"(Removed for Security)\"\n",
        "\n",
        "private_client = cbpro.AuthenticatedClient(key, secret, phrase)\n",
        "private_client.get_accounts()\n",
        "\n",
        "# here is the guide to this: https://github.com/danpaquin/coinbasepro-python"
      ],
      "execution_count": null,
      "outputs": []
    },
    {
      "cell_type": "code",
      "metadata": {
        "id": "RQzcKnPUcyNM"
      },
      "source": [
        "#prints the time and date\n",
        "time = private_client.get_time()\n",
        "print(time)"
      ],
      "execution_count": null,
      "outputs": []
    },
    {
      "cell_type": "code",
      "metadata": {
        "id": "d5ioMwukZ29M"
      },
      "source": [
        "#prints payment methods connected to coinbase\n",
        "private_client.get_payment_methods()"
      ],
      "execution_count": null,
      "outputs": []
    },
    {
      "cell_type": "code",
      "metadata": {
        "id": "tOctZXhvkJNF"
      },
      "source": [
        "#deposits to coinbase\n",
        "private_client.deposit( '1', 'USD', '(removed for security)' )\n",
        "# here is the guide to this: https://github.com/danpaquin/coinbasepro-python"
      ],
      "execution_count": null,
      "outputs": []
    },
    {
      "cell_type": "markdown",
      "metadata": {
        "id": "y6rLQJJ1jqYs"
      },
      "source": [
        "\n"
      ]
    }
  ]
}